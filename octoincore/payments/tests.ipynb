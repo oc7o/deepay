{
 "cells": [
  {
   "cell_type": "markdown",
   "metadata": {},
   "source": []
  },
  {
   "cell_type": "code",
   "execution_count": 10,
   "metadata": {},
   "outputs": [],
   "source": [
    "import requests\n",
    "import typing\n",
    "from requests import Session\n",
    "from decimal import Decimal"
   ]
  },
  {
   "cell_type": "code",
   "execution_count": 21,
   "metadata": {},
   "outputs": [
    {
     "name": "stdout",
     "output_type": "stream",
     "text": [
      "4LV39Ej2XB3zb9VTfstnyGJ1dBgGa5ndjqYoJUsEoqNq\n",
      "{'id': '4LV39Ej2XB3zb9VTfstnyGJ1dBgGa5ndjqYoJUsEoqNq', 'name': 'OctopusInterface', 'website': None, 'invoiceExpiration': 900, 'monitoringExpiration': 86400, 'speedPolicy': 'MediumSpeed', 'lightningDescriptionTemplate': 'Paid to {StoreName} (Order ID: {OrderId})', 'paymentTolerance': 0.0, 'anyoneCanCreateInvoice': False, 'defaultCurrency': None, 'requiresRefundEmail': False, 'lightningAmountInSatoshi': False, 'lightningPrivateRouteHints': False, 'onChainWithLnInvoiceFallback': False, 'lazyPaymentMethods': False, 'redirectAutomatically': False, 'showRecommendedFee': True, 'recommendedFeeBlockTarget': 1, 'defaultPaymentMethod': None, 'customLogo': None, 'customCSS': None, 'htmlTitle': None, 'networkFeeMode': 'MultiplePaymentsOnly', 'payJoinEnabled': False, 'receipt': {'enabled': True, 'showQR': True, 'showPayments': True}}\n",
      "-----------\n",
      "{'id': 'DCKVzUkgZQ41m3va7ubG59', 'storeId': '4LV39Ej2XB3zb9VTfstnyGJ1dBgGa5ndjqYoJUsEoqNq', 'amount': '5.0', 'checkoutLink': 'http://192.168.178.31:3003/i/DCKVzUkgZQ41m3va7ubG59', 'status': 'New', 'additionalStatus': 'None', 'monitoringExpiration': 1673705528, 'expirationTime': 1673619128, 'createdTime': 1673532728, 'availableStatusesForManualMarking': ['Settled', 'Invalid'], 'archived': False, 'type': 'Standard', 'currency': 'EUR', 'metadata': {}, 'checkout': {'speedPolicy': 'HighSpeed', 'paymentMethods': ['BTC'], 'defaultPaymentMethod': 'BTC', 'expirationMinutes': 1440, 'monitoringMinutes': 1440, 'paymentTolerance': 100.0, 'redirectURL': 'https://google.com/', 'redirectAutomatically': True, 'requiresRefundEmail': False, 'defaultLanguage': 'en'}, 'receipt': {'enabled': True, 'showQR': None, 'showPayments': None}}\n"
     ]
    }
   ],
   "source": [
    "class BTCPayClient:\n",
    "    client: Session = None\n",
    "    token: str = \"ab588f8c62673edc43710572e218d3abb90509c3\"\n",
    "    btcpay_instance: str = \"http://192.168.178.31:3003\"\n",
    "    default_store_id: str = \"4LV39Ej2XB3zb9VTfstnyGJ1dBgGa5ndjqYoJUsEoqNq\"\n",
    "    default_currency: str = \"EUR\"\n",
    "\n",
    "    def __init__(self) -> None:\n",
    "        self.client = Session()\n",
    "        self.client.headers['Content-Type'] = \"application/json\"\n",
    "        self.client.headers['Authorization'] = \"token \" + self.token\n",
    "\n",
    "    def get_stores(self):\n",
    "        return self.client.get(self.btcpay_instance + \"/api/v1/stores\").json()\n",
    "\n",
    "    def get_store(self, storeId:str=default_store_id):\n",
    "        return self.client.get(self.btcpay_instance + \"/api/v1/stores/\" + storeId).json()\n",
    "\n",
    "    def get_invoices(self, storeId:str=default_store_id):\n",
    "        return self.client.get(self.btcpay_instance + f\"/api/v1/stores/{storeId}/invoices\").json()\n",
    "\n",
    "    def get_invoice(self, invoiceId:str, storeId:str = default_store_id):\n",
    "        return self.client.get(self.btcpay_instance + f\"/api/v1/stores/{storeId}/invoices/{invoiceId}\").json()\n",
    "\n",
    "    def create_invoice(self, amount:Decimal, storeId:str=default_store_id):\n",
    "        data = {\n",
    "        \"checkout\": {\n",
    "            \"speedPolicy\": \"HighSpeed\", # \"Highspeed\": 0, \"MediumSpeed\": 1, \"LowMediumSpeed\": 2, \"LowSpeed\": 6\n",
    "            \"paymentMethods\": [\n",
    "                \"BTC\"\n",
    "            ],\n",
    "            \"defaultPaymentMethod\": \"BTC\",\n",
    "            \"expirationMinutes\": 60 * 24,\n",
    "            \"monitoringMinutes\": 60 * 24,\n",
    "            \"paymentTolerance\": 100,\n",
    "            \"redirectURL\": \"https://google.com/\", # https://sloow.de/\n",
    "            \"redirectAutomatically\": True,\n",
    "            \"requiresRefundEmail\": False,\n",
    "            \"defaultLanguage\": \"en-US\"\n",
    "        },\n",
    "        \"receipt\": {\n",
    "            \"enabled\": True,\n",
    "            \"showQR\": None,\n",
    "            \"showPayments\": None\n",
    "        },\n",
    "        \"amount\": amount,\n",
    "        \"currency\": self.default_currency,\n",
    "        }\n",
    "        \"\"\"\n",
    "        # \"metadata\": {\n",
    "        #     \"orderId\": \"string\",\n",
    "        #     \"orderUrl\": \"string\"\n",
    "        # },\n",
    "\n",
    "        # \"additionalSearchTerms\": [\n",
    "        #     \"string\"\n",
    "        # ]\n",
    "        \"\"\"\n",
    "        return self.client.post(self.btcpay_instance + f\"/api/v1/stores/{storeId}/invoices\", json=data).json()\n",
    "        \n",
    "\n",
    "\n",
    "c = BTCPayClient()\n",
    "s = c.get_stores()\n",
    "print(s[0]['id'])\n",
    "print(c.get_store(storeId=s[0]['id']))\n",
    "new_invoice = c.create_invoice(amount=5.00)\n",
    "print(\"-----------\")\n",
    "print(new_invoice)"
   ]
  },
  {
   "cell_type": "code",
   "execution_count": null,
   "metadata": {},
   "outputs": [],
   "source": []
  }
 ],
 "metadata": {
  "kernelspec": {
   "display_name": "base",
   "language": "python",
   "name": "python3"
  },
  "language_info": {
   "codemirror_mode": {
    "name": "ipython",
    "version": 3
   },
   "file_extension": ".py",
   "mimetype": "text/x-python",
   "name": "python",
   "nbconvert_exporter": "python",
   "pygments_lexer": "ipython3",
   "version": "3.9.7 (default, Sep 16 2021, 08:50:36) \n[Clang 10.0.0 ]"
  },
  "orig_nbformat": 4,
  "vscode": {
   "interpreter": {
    "hash": "55aa3dbd7116a44ca337bd7188e79888641252c0517e4125a2d037d00e1788d3"
   }
  }
 },
 "nbformat": 4,
 "nbformat_minor": 2
}
